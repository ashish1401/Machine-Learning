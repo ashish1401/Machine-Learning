{
  "nbformat": 4,
  "nbformat_minor": 0,
  "metadata": {
    "colab": {
      "provenance": [],
      "authorship_tag": "ABX9TyNu4b2/tDnQfXZkt9nixva5",
      "include_colab_link": true
    },
    "kernelspec": {
      "name": "python3",
      "display_name": "Python 3"
    },
    "language_info": {
      "name": "python"
    }
  },
  "cells": [
    {
      "cell_type": "markdown",
      "metadata": {
        "id": "view-in-github",
        "colab_type": "text"
      },
      "source": [
        "<a href=\"https://colab.research.google.com/github/ashish1401/Machine-Learning/blob/main/SVM_aided_Loan_Status_Detection.ipynb\" target=\"_parent\"><img src=\"https://colab.research.google.com/assets/colab-badge.svg\" alt=\"Open In Colab\"/></a>"
      ]
    },
    {
      "cell_type": "code",
      "execution_count": null,
      "metadata": {
        "id": "USfNmh45x0ww"
      },
      "outputs": [],
      "source": [
        "import pandas as pd\n",
        "import numpy as np\n",
        "import matplotlib.pyplot as plt\n",
        "\n",
        "from sklearn.model_selection import train_test_split\n",
        "from sklearn import svm\n",
        "from sklearn.metrics import accuracy_score"
      ]
    },
    {
      "cell_type": "code",
      "source": [
        "df = pd.read_csv('/content/dataset.csv')\n",
        "# df = df.drop(columns=['Gender'])\n",
        "df_rural = df[df['Property_Area']=='Rural']\n",
        "df_urban = df[df['Property_Area']=='Urban']\n",
        "df_semiurban = df[df['Property_Area']=='Semiurban']\n",
        "df_urban.isna().sum()"
      ],
      "metadata": {
        "id": "ls_0thZ3yRfy"
      },
      "execution_count": null,
      "outputs": []
    },
    {
      "cell_type": "code",
      "source": [
        "df_rural.isna().sum()"
      ],
      "metadata": {
        "id": "1HJ2KyVBAJIO"
      },
      "execution_count": null,
      "outputs": []
    },
    {
      "cell_type": "markdown",
      "source": [
        "**About Dataset Features:**\n",
        "\n",
        "Loan_ID\n",
        "\n",
        "Gender\n",
        "\n",
        "Married\n",
        "\n",
        "Dependents\n",
        "\n",
        "Education\n",
        "\n",
        "Self_Employed\n",
        "\n",
        "ApplicantIncome\n",
        "\n",
        "CoapplicantIncome\n",
        "\n",
        "LoanAmount\n",
        "\n",
        "Loan_Amount_Term\n",
        "\n",
        "Credit_History\n",
        "\n",
        "Propert_Area\n",
        "\n",
        "Loan_Status\n"
      ],
      "metadata": {
        "id": "_6F2Wv21zSQ1"
      }
    },
    {
      "cell_type": "code",
      "source": [
        "df.info()"
      ],
      "metadata": {
        "id": "Y5_D0kJJ0nQh"
      },
      "execution_count": null,
      "outputs": []
    },
    {
      "cell_type": "code",
      "source": [
        "df.isnull().sum()"
      ],
      "metadata": {
        "id": "usqLyrwW0pUA"
      },
      "execution_count": null,
      "outputs": []
    },
    {
      "cell_type": "code",
      "source": [
        "\n",
        "df[['Married','Self_Employed']] = df[['Married','Self_Employed']].fillna('No')"
      ],
      "metadata": {
        "id": "msRATQxj1U2z"
      },
      "execution_count": null,
      "outputs": []
    },
    {
      "cell_type": "code",
      "source": [
        "df[['Dependents','Credit_History']] = df[['Dependents','Credit_History']].fillna(0)"
      ],
      "metadata": {
        "id": "Uhd9itco3cNP"
      },
      "execution_count": null,
      "outputs": []
    },
    {
      "cell_type": "code",
      "source": [
        "#replace Loan_Amount_Term with the median period\n",
        "df['Loan_Amount_Term'].value_counts().plot(kind=\"bar\",color='skyblue')"
      ],
      "metadata": {
        "colab": {
          "base_uri": "https://localhost:8080/",
          "height": 492
        },
        "id": "pOl1z5Aq4znn",
        "outputId": "212c3f33-5e20-42db-9641-41824564ba06"
      },
      "execution_count": null,
      "outputs": [
        {
          "output_type": "execute_result",
          "data": {
            "text/plain": [
              "<Axes: xlabel='Loan_Amount_Term'>"
            ]
          },
          "metadata": {},
          "execution_count": 68
        },
        {
          "output_type": "display_data",
          "data": {
            "text/plain": [
              "<Figure size 640x480 with 1 Axes>"
            ],
            "image/png": "[encoded data removed]"
          },
          "metadata": {}
        }
      ]
    },
    {
      "cell_type": "markdown",
      "source": [
        "Dropping all NA values lead to loss of 100 datapoints ie atleast 16% of our dataset , hence we must impute some values"
      ],
      "metadata": {
        "id": "cEAbVV3h29zK"
      }
    },
    {
      "cell_type": "code",
      "source": [
        "df['Loan_Amount_Term'] = df['Loan_Amount_Term'].fillna(360)\n",
        "df.isna().sum()"
      ],
      "metadata": {
        "id": "1MO9niY72IkN"
      },
      "execution_count": null,
      "outputs": []
    },
    {
      "cell_type": "code",
      "source": [
        "df.info()"
      ],
      "metadata": {
        "id": "EZsudJ-S3lrf"
      },
      "execution_count": null,
      "outputs": []
    },
    {
      "cell_type": "markdown",
      "source": [
        "Performing Label Encoding for 'Loan_Status' and 'Dependents\\' - as we will eventually fit our training model with numeric data"
      ],
      "metadata": {
        "id": "ywwWFDKqdEYB"
      }
    },
    {
      "cell_type": "code",
      "source": [
        "df = df.replace({\"Loan_Status\":{'N':0,'Y':1}},inplace=True)\n",
        "df = df.replace({\"Married\":{'No':0,'Yes':1},\"Self_Employed\":{'No':0,'Yes':1}},inplace=True)\n",
        "df = df.replace(to_replace='3+',value=4)"
      ],
      "metadata": {
        "id": "NM-F4TqFf_Pd"
      },
      "execution_count": null,
      "outputs": []
    },
    {
      "cell_type": "markdown",
      "source": [
        "Perform Data Type Conversions once again using Label Encoding"
      ],
      "metadata": {
        "id": "cVht2UDgh5t5"
      }
    },
    {
      "cell_type": "code",
      "source": [
        "#CHANGE DATA-TYPE"
      ],
      "metadata": {
        "id": "LuhJhg4ZlDFf"
      },
      "execution_count": null,
      "outputs": []
    },
    {
      "cell_type": "code",
      "source": [
        "#separating the data and label\n",
        "X = df.drop(columns=['Loan_ID','Loan_Status'],axis=1)\n",
        "# axis=1 ensures that data is deleted by the column not the row\n",
        "Y = df[['Loan_Status']]"
      ],
      "metadata": {
        "id": "F72oqsF-lKRn"
      },
      "execution_count": null,
      "outputs": []
    },
    {
      "cell_type": "code",
      "source": [
        "X_train,X_test,Y_train,Y_test = train_test_split(X,Y,test_size=0.1,stratify=Y,random_state=21)"
      ],
      "metadata": {
        "id": "3-FB6PD1odv1"
      },
      "execution_count": null,
      "outputs": []
    },
    {
      "cell_type": "code",
      "source": [
        "classifier = svm.SVC(kernel='linear')\n",
        "classifier.fit(X_train,Y_train)"
      ],
      "metadata": {
        "id": "VLr-hRtkqS5O"
      },
      "execution_count": null,
      "outputs": []
    },
    {
      "cell_type": "code",
      "source": [
        "Y_pred = classifier.predict(X_test[0])\n",
        "Y_pred"
      ],
      "metadata": {
        "id": "BmuPcCUrqcM8"
      },
      "execution_count": null,
      "outputs": []
    }
  ]
}